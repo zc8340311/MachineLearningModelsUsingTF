{
 "cells": [
  {
   "cell_type": "markdown",
   "metadata": {},
   "source": [
    "# Linear Models and Least Squares"
   ]
  },
  {
   "cell_type": "markdown",
   "metadata": {},
   "source": [
    "Often it is convinient to include the constant variable 1 in X which will include $\\beta_{0}$ in the vector of coefficients $\\beta$. Then, the linear model can be writen in vector form as an inner product:\n",
    "        $\\hat{Y}=X^{T}\\hat{\\beta}$ \n",
    "where $X^{T}$ donates vector or matrix transpose (X being a column vector) Data dimension is $p$, X is a column vector, so each column is a feature, each row is an instance. X is in the p-dimensional input space $f(X)=X^{T}\\beta$ is linear. and the gradient $f^{\\prime} = \\beta$ is a vector in input space that points in the steepest uphill direction. $RSS = \\sum^{N}_{i=1}(y_{i}-x^{T}_{i}\\beta)$\n",
    "        "
   ]
  },
  {
   "cell_type": "code",
   "execution_count": 2,
   "metadata": {},
   "outputs": [],
   "source": [
    "import tensorflow as tf\n",
    "import numpy as np"
   ]
  },
  {
   "cell_type": "code",
   "execution_count": 3,
   "metadata": {
    "scrolled": false
   },
   "outputs": [
    {
     "name": "stdout",
     "output_type": "stream",
     "text": [
      "(100, 2)\n",
      "(100, 2)\n",
      "(100, 1)\n"
     ]
    }
   ],
   "source": [
    "N = 100\n",
    "p = 2\n",
    "X = np.random.rand(N,2)\n",
    "\n",
    "print X.shape\n",
    "beta = np.array([[2.],[1.]])\n",
    "bias_term = np.array([1.])\n",
    "Y = np.dot(X,beta) \n",
    "print X.shape\n",
    "print Y.shape\n"
   ]
  },
  {
   "cell_type": "code",
   "execution_count": 20,
   "metadata": {
    "scrolled": false
   },
   "outputs": [
    {
     "name": "stdout",
     "output_type": "stream",
     "text": [
      "Tensor(\"Shape:0\", shape=(2,), dtype=int32)\n",
      "()\n",
      "0 78.7911\n",
      "1 27.8627\n",
      "2 15.0321\n",
      "3 8.15341\n",
      "4 4.42264\n",
      "5 2.39897\n",
      "6 1.30127\n",
      "7 0.705845\n",
      "8 0.382871\n",
      "9 0.20768\n",
      "10 0.112652\n",
      "11 0.0611055\n",
      "12 0.0331454\n",
      "13 0.017979\n",
      "14 0.00975238\n",
      "15 0.00528994\n",
      "16 0.00286942\n",
      "17 0.00155644\n",
      "18 0.000844235\n",
      "19 0.000457949\n",
      "20 0.000248396\n",
      "21 0.000134733\n",
      "22 7.30816e-05\n",
      "23 3.964e-05\n",
      "24 2.15024e-05\n",
      "25 1.16623e-05\n",
      "26 6.32651e-06\n",
      "27 3.43092e-06\n",
      "28 1.86123e-06\n",
      "29 1.00968e-06\n",
      "[[ 1.9997611 ]\n",
      " [ 1.00021863]]\n"
     ]
    }
   ],
   "source": [
    "with tf.Graph().as_default():\n",
    "    b = tf.Variable(tf.random_uniform([2,1],minval = -5., maxval = 5.),dtype=tf.float32)\n",
    "    print tf.shape(b)\n",
    "    bias = tf.Variable(tf.zeros([1]))\n",
    "    input_x = tf.placeholder(dtype=tf.float32,shape=(N,2))\n",
    "    input_y = tf.placeholder(dtype=tf.float32,shape=(N,1))\n",
    "    cost = tf.reduce_sum(tf.square(input_y - tf.matmul(input_x, b)))\n",
    "#     print tf.shape(cost)\n",
    "#     cost = tf.norm((input_y - tf.matmul(input_x, b)),axis=0)\n",
    "    print cost.shape\n",
    "\n",
    "    with tf.Session() as sess:\n",
    "#         learning_rate = 0.000001\n",
    "        opt = tf.train.GradientDescentOptimizer(learning_rate = 0.01)\n",
    "#         opt = tf.train.AdamOptimizer()\n",
    "        train = opt.minimize(cost)\n",
    "        sess.run(tf.global_variables_initializer())\n",
    "        for i in xrange(30):\n",
    "            \n",
    "            sess.run(train,feed_dict = {input_y: Y,input_x: X})\n",
    "            _, loss_value = sess.run([train, cost],feed_dict={input_y: Y,input_x: X})\n",
    "            print i,loss_value\n",
    "        esti_b = b.eval(session=sess)\n",
    "        print esti_b"
   ]
  },
  {
   "cell_type": "code",
   "execution_count": null,
   "metadata": {},
   "outputs": [],
   "source": [
    "with tf.Graph().as_default():\n",
    "\n",
    "    input_x = tf.placeholder(dtype=tf.float32,shape=(N,2))\n",
    "    input_y = tf.placeholder(dtype=tf.float32,shape=(N,1))\n",
    "    H = tf.matmul(tf.matrix_inverse(tf.matmul(tf.transpose(input_x),input_x)),tf.transpose(input_x))\n",
    "    esti_b = tf.matmul(H,input_y)\n",
    "    with tf.Session() as sess:\n",
    "        print esti_b.eval(session=sess, feed_dict={input_x:X,input_y:Y})"
   ]
  },
  {
   "cell_type": "code",
   "execution_count": null,
   "metadata": {
    "collapsed": true
   },
   "outputs": [],
   "source": []
  },
  {
   "cell_type": "code",
   "execution_count": null,
   "metadata": {
    "collapsed": true
   },
   "outputs": [],
   "source": []
  },
  {
   "cell_type": "code",
   "execution_count": null,
   "metadata": {
    "collapsed": true
   },
   "outputs": [],
   "source": []
  },
  {
   "cell_type": "code",
   "execution_count": null,
   "metadata": {
    "collapsed": true
   },
   "outputs": [],
   "source": []
  },
  {
   "cell_type": "code",
   "execution_count": null,
   "metadata": {
    "collapsed": true
   },
   "outputs": [],
   "source": []
  },
  {
   "cell_type": "code",
   "execution_count": null,
   "metadata": {
    "collapsed": true
   },
   "outputs": [],
   "source": []
  },
  {
   "cell_type": "code",
   "execution_count": null,
   "metadata": {
    "collapsed": true
   },
   "outputs": [],
   "source": []
  },
  {
   "cell_type": "code",
   "execution_count": null,
   "metadata": {
    "collapsed": true
   },
   "outputs": [],
   "source": []
  },
  {
   "cell_type": "code",
   "execution_count": null,
   "metadata": {
    "collapsed": true
   },
   "outputs": [],
   "source": []
  },
  {
   "cell_type": "code",
   "execution_count": null,
   "metadata": {
    "collapsed": true
   },
   "outputs": [],
   "source": []
  },
  {
   "cell_type": "code",
   "execution_count": null,
   "metadata": {
    "collapsed": true
   },
   "outputs": [],
   "source": []
  },
  {
   "cell_type": "code",
   "execution_count": null,
   "metadata": {
    "collapsed": true
   },
   "outputs": [],
   "source": []
  },
  {
   "cell_type": "code",
   "execution_count": null,
   "metadata": {
    "collapsed": true
   },
   "outputs": [],
   "source": []
  },
  {
   "cell_type": "code",
   "execution_count": null,
   "metadata": {
    "collapsed": true
   },
   "outputs": [],
   "source": []
  },
  {
   "cell_type": "code",
   "execution_count": null,
   "metadata": {
    "collapsed": true
   },
   "outputs": [],
   "source": []
  },
  {
   "cell_type": "code",
   "execution_count": null,
   "metadata": {
    "collapsed": true
   },
   "outputs": [],
   "source": []
  },
  {
   "cell_type": "code",
   "execution_count": null,
   "metadata": {
    "collapsed": true
   },
   "outputs": [],
   "source": []
  },
  {
   "cell_type": "code",
   "execution_count": null,
   "metadata": {
    "collapsed": true
   },
   "outputs": [],
   "source": []
  },
  {
   "cell_type": "code",
   "execution_count": null,
   "metadata": {
    "collapsed": true
   },
   "outputs": [],
   "source": []
  },
  {
   "cell_type": "code",
   "execution_count": null,
   "metadata": {
    "collapsed": true
   },
   "outputs": [],
   "source": []
  },
  {
   "cell_type": "code",
   "execution_count": null,
   "metadata": {
    "collapsed": true
   },
   "outputs": [],
   "source": []
  },
  {
   "cell_type": "code",
   "execution_count": null,
   "metadata": {
    "collapsed": true
   },
   "outputs": [],
   "source": []
  },
  {
   "cell_type": "code",
   "execution_count": null,
   "metadata": {
    "collapsed": true
   },
   "outputs": [],
   "source": []
  },
  {
   "cell_type": "code",
   "execution_count": null,
   "metadata": {
    "collapsed": true
   },
   "outputs": [],
   "source": []
  },
  {
   "cell_type": "code",
   "execution_count": null,
   "metadata": {
    "collapsed": true
   },
   "outputs": [],
   "source": []
  },
  {
   "cell_type": "code",
   "execution_count": null,
   "metadata": {
    "collapsed": true
   },
   "outputs": [],
   "source": []
  },
  {
   "cell_type": "code",
   "execution_count": null,
   "metadata": {
    "collapsed": true
   },
   "outputs": [],
   "source": []
  },
  {
   "cell_type": "code",
   "execution_count": null,
   "metadata": {
    "collapsed": true
   },
   "outputs": [],
   "source": []
  },
  {
   "cell_type": "code",
   "execution_count": null,
   "metadata": {
    "collapsed": true
   },
   "outputs": [],
   "source": []
  },
  {
   "cell_type": "code",
   "execution_count": null,
   "metadata": {
    "collapsed": true
   },
   "outputs": [],
   "source": []
  },
  {
   "cell_type": "code",
   "execution_count": null,
   "metadata": {
    "collapsed": true
   },
   "outputs": [],
   "source": []
  },
  {
   "cell_type": "code",
   "execution_count": null,
   "metadata": {
    "collapsed": true
   },
   "outputs": [],
   "source": []
  },
  {
   "cell_type": "code",
   "execution_count": null,
   "metadata": {
    "collapsed": true
   },
   "outputs": [],
   "source": []
  },
  {
   "cell_type": "code",
   "execution_count": null,
   "metadata": {
    "collapsed": true
   },
   "outputs": [],
   "source": []
  },
  {
   "cell_type": "code",
   "execution_count": null,
   "metadata": {
    "collapsed": true
   },
   "outputs": [],
   "source": []
  },
  {
   "cell_type": "code",
   "execution_count": null,
   "metadata": {
    "collapsed": true
   },
   "outputs": [],
   "source": []
  },
  {
   "cell_type": "code",
   "execution_count": null,
   "metadata": {
    "collapsed": true
   },
   "outputs": [],
   "source": []
  },
  {
   "cell_type": "code",
   "execution_count": null,
   "metadata": {
    "collapsed": true
   },
   "outputs": [],
   "source": []
  },
  {
   "cell_type": "code",
   "execution_count": null,
   "metadata": {
    "collapsed": true
   },
   "outputs": [],
   "source": []
  },
  {
   "cell_type": "code",
   "execution_count": null,
   "metadata": {
    "collapsed": true
   },
   "outputs": [],
   "source": []
  }
 ],
 "metadata": {
  "kernelspec": {
   "display_name": "Python 2",
   "language": "python",
   "name": "python2"
  },
  "language_info": {
   "codemirror_mode": {
    "name": "ipython",
    "version": 2
   },
   "file_extension": ".py",
   "mimetype": "text/x-python",
   "name": "python",
   "nbconvert_exporter": "python",
   "pygments_lexer": "ipython2",
   "version": "2.7.12"
  }
 },
 "nbformat": 4,
 "nbformat_minor": 2
}
