{
 "cells": [
  {
   "cell_type": "markdown",
   "metadata": {},
   "source": [
    "# Linear Models and Least Squares"
   ]
  },
  {
   "cell_type": "markdown",
   "metadata": {},
   "source": [
    "Often it is convinient to include the constant variable 1 in X which will include $\\beta_{0}$ in the vector of coefficients $\\beta$. Then, the linear model can be writen in vector form as an inner product:\n",
    "        $\\hat{Y}=X^{T}\\hat{\\beta}$ \n",
    "where $X^{T}$ donates vector or matrix transpose (X being a column vector) Data dimension is $p$, X is a column vector, so each column is a feature, each row is an instance. X is in the p-dimensional input space $f(X)=X^{T}\\beta$ is linear. and the gradient $f^{\\prime} = \\beta$ is a vector in input space that points in the steepest uphill direction. $RSS = \\sum^{N}_{i=1}(y_{i}-x^{T}_{i}\\beta)$\n",
    "        "
   ]
  },
  {
   "cell_type": "code",
   "execution_count": 2,
   "metadata": {},
   "outputs": [],
   "source": [
    "import tensorflow as tf\n",
    "import numpy as np"
   ]
  },
  {
   "cell_type": "code",
   "execution_count": 3,
   "metadata": {
    "scrolled": false
   },
   "outputs": [
    {
     "name": "stdout",
     "output_type": "stream",
     "text": [
      "(100, 2)\n",
      "(100, 2)\n",
      "(100, 1)\n"
     ]
    }
   ],
   "source": [
    "N = 100\n",
    "p = 2\n",
    "X = np.random.rand(N,2)\n",
    "\n",
    "print X.shape\n",
    "beta = np.array([[2.],[1.]])\n",
    "bias_term = np.array([1.])\n",
    "Y = np.dot(X,beta) \n",
    "print X.shape\n",
    "print Y.shape\n"
   ]
  },
  {
   "cell_type": "code",
   "execution_count": 27,
   "metadata": {
    "scrolled": false
   },
   "outputs": [
    {
     "name": "stdout",
     "output_type": "stream",
     "text": [
      "Tensor(\"Shape:0\", shape=(2,), dtype=int32)\n",
      "()\n",
      "0 25.0503\n",
      "1 7.63394\n",
      "2 2.38815\n",
      "3 0.801236\n",
      "4 0.315067\n",
      "5 0.160728\n",
      "6 0.107026\n",
      "7 0.0843783\n",
      "8 0.0717852\n",
      "9 0.0628551\n",
      "10 0.0555961\n",
      "11 0.0493463\n",
      "12 0.0438508\n",
      "13 0.0389828\n",
      "14 0.0346599\n",
      "15 0.0308178\n",
      "16 0.0274021\n",
      "17 0.024365\n",
      "18 0.0216646\n",
      "19 0.0192635\n",
      "20 0.0171285\n",
      "21 0.0152301\n",
      "22 0.0135422\n",
      "23 0.0120413\n",
      "24 0.0107067\n",
      "25 0.00952009\n",
      "26 0.00846497\n",
      "27 0.00752679\n",
      "28 0.00669259\n",
      "29 0.00595085\n",
      "30 0.00529131\n",
      "31 0.00470487\n",
      "32 0.00418342\n",
      "33 0.00371977\n",
      "34 0.00330751\n",
      "35 0.00294094\n",
      "36 0.00261499\n",
      "37 0.00232517\n",
      "38 0.00206747\n",
      "39 0.00183833\n",
      "40 0.00163459\n",
      "41 0.00145342\n",
      "42 0.00129234\n",
      "43 0.00114911\n",
      "44 0.00102175\n",
      "45 0.000908509\n",
      "46 0.000807818\n",
      "47 0.000718288\n",
      "48 0.00063868\n",
      "49 0.000567894\n",
      "50 0.000504954\n",
      "51 0.000448991\n",
      "52 0.000399228\n",
      "53 0.000354981\n",
      "54 0.000315639\n",
      "55 0.000280656\n",
      "56 0.000249551\n",
      "57 0.000221893\n",
      "58 0.000197301\n",
      "59 0.000175433\n",
      "60 0.00015599\n",
      "61 0.000138702\n",
      "62 0.000123329\n",
      "63 0.00010966\n",
      "64 9.75066e-05\n",
      "65 8.66997e-05\n",
      "66 7.70906e-05\n",
      "67 6.85465e-05\n",
      "68 6.09497e-05\n",
      "69 5.41946e-05\n",
      "70 4.81884e-05\n",
      "71 4.28478e-05\n",
      "72 3.80989e-05\n",
      "73 3.38764e-05\n",
      "74 3.01218e-05\n",
      "75 2.67835e-05\n",
      "76 2.38152e-05\n",
      "77 2.11755e-05\n",
      "78 1.88287e-05\n",
      "79 1.67419e-05\n",
      "80 1.48865e-05\n",
      "81 1.32367e-05\n",
      "82 1.17698e-05\n",
      "83 1.04652e-05\n",
      "84 9.30528e-06\n",
      "85 8.27404e-06\n",
      "86 7.35691e-06\n",
      "87 6.5416e-06\n",
      "88 5.81653e-06\n",
      "89 5.17187e-06\n",
      "90 4.59861e-06\n",
      "91 4.08895e-06\n",
      "92 3.63583e-06\n",
      "93 3.23288e-06\n",
      "94 2.87461e-06\n",
      "95 2.55601e-06\n",
      "96 2.27275e-06\n",
      "97 2.0208e-06\n",
      "98 1.7969e-06\n",
      "99 1.59774e-06\n",
      "100 1.42073e-06\n",
      "101 1.26333e-06\n",
      "102 1.12328e-06\n",
      "103 9.98826e-07\n",
      "104 8.88173e-07\n",
      "105 7.89771e-07\n",
      "106 7.0216e-07\n",
      "107 6.24321e-07\n",
      "108 5.55126e-07\n",
      "109 4.93587e-07\n",
      "110 4.38874e-07\n",
      "111 3.90239e-07\n",
      "112 3.46964e-07\n",
      "113 3.08523e-07\n",
      "114 2.74315e-07\n",
      "115 2.43917e-07\n",
      "116 2.16879e-07\n",
      "117 1.92837e-07\n",
      "118 1.71462e-07\n",
      "119 1.52452e-07\n",
      "120 1.35562e-07\n",
      "121 1.20546e-07\n",
      "122 1.07179e-07\n",
      "123 9.52794e-08\n",
      "124 8.4716e-08\n",
      "125 7.53399e-08\n",
      "126 6.69899e-08\n",
      "127 5.95703e-08\n",
      "128 5.29621e-08\n",
      "129 4.70979e-08\n",
      "130 4.18894e-08\n",
      "131 3.72495e-08\n",
      "132 3.31235e-08\n",
      "133 2.94454e-08\n",
      "134 2.61944e-08\n",
      "135 2.32772e-08\n",
      "136 2.06969e-08\n",
      "137 1.84049e-08\n",
      "138 1.63612e-08\n",
      "139 1.45455e-08\n",
      "140 1.29326e-08\n",
      "141 1.15064e-08\n",
      "142 1.02308e-08\n",
      "143 9.09881e-09\n",
      "144 8.08901e-09\n",
      "145 7.1946e-09\n",
      "146 6.39725e-09\n",
      "147 5.68841e-09\n",
      "148 5.05513e-09\n",
      "149 4.49752e-09\n",
      "[[ 1.99982142]\n",
      " [ 1.00016344]]\n"
     ]
    }
   ],
   "source": [
    "with tf.Graph().as_default():\n",
    "    b = tf.Variable(tf.random_uniform([2,1],minval = -5., maxval = 5.),dtype=tf.float32)\n",
    "    print tf.shape(b)\n",
    "    bias = tf.Variable(tf.zeros([1]))\n",
    "    input_x = tf.placeholder(dtype=tf.float32,shape=(N,2))\n",
    "    input_y = tf.placeholder(dtype=tf.float32,shape=(N,1))\n",
    "    cost = tf.reduce_sum(tf.square(input_y - tf.matmul(input_x, b))) / (N - 2)\n",
    "#     print tf.shape(cost)\n",
    "#     cost = tf.norm((input_y - tf.matmul(input_x, b)),axis=0)\n",
    "    print cost.shape\n",
    "\n",
    "    with tf.Session() as sess:\n",
    "#         learning_rate = 0.000001\n",
    "        opt = tf.train.GradientDescentOptimizer(learning_rate = 0.2)\n",
    "#         opt = tf.train.AdamOptimizer()\n",
    "        train = opt.minimize(cost)\n",
    "        sess.run(tf.global_variables_initializer())\n",
    "        for i in xrange(150):\n",
    "            \n",
    "            sess.run(train,feed_dict = {input_y: Y,input_x: X})\n",
    "            _, loss_value = sess.run([train, cost],feed_dict={input_y: Y,input_x: X})\n",
    "            print i,loss_value\n",
    "        esti_b = b.eval(session=sess)\n",
    "        print esti_b"
   ]
  },
  {
   "cell_type": "code",
   "execution_count": null,
   "metadata": {},
   "outputs": [],
   "source": [
    "with tf.Graph().as_default():\n",
    "\n",
    "    input_x = tf.placeholder(dtype=tf.float32,shape=(N,2))\n",
    "    input_y = tf.placeholder(dtype=tf.float32,shape=(N,1))\n",
    "    H = tf.matmul(tf.matrix_inverse(tf.matmul(tf.transpose(input_x),input_x)),tf.transpose(input_x))\n",
    "    esti_b = tf.matmul(H,input_y)\n",
    "    with tf.Session() as sess:\n",
    "        print esti_b.eval(session=sess, feed_dict={input_x:X,input_y:Y})"
   ]
  },
  {
   "cell_type": "code",
   "execution_count": null,
   "metadata": {
    "collapsed": true
   },
   "outputs": [],
   "source": []
  },
  {
   "cell_type": "code",
   "execution_count": null,
   "metadata": {
    "collapsed": true
   },
   "outputs": [],
   "source": []
  },
  {
   "cell_type": "code",
   "execution_count": null,
   "metadata": {
    "collapsed": true
   },
   "outputs": [],
   "source": []
  },
  {
   "cell_type": "code",
   "execution_count": null,
   "metadata": {
    "collapsed": true
   },
   "outputs": [],
   "source": []
  },
  {
   "cell_type": "code",
   "execution_count": null,
   "metadata": {
    "collapsed": true
   },
   "outputs": [],
   "source": []
  },
  {
   "cell_type": "code",
   "execution_count": null,
   "metadata": {
    "collapsed": true
   },
   "outputs": [],
   "source": []
  },
  {
   "cell_type": "code",
   "execution_count": null,
   "metadata": {
    "collapsed": true
   },
   "outputs": [],
   "source": []
  },
  {
   "cell_type": "code",
   "execution_count": null,
   "metadata": {
    "collapsed": true
   },
   "outputs": [],
   "source": []
  },
  {
   "cell_type": "code",
   "execution_count": null,
   "metadata": {
    "collapsed": true
   },
   "outputs": [],
   "source": []
  },
  {
   "cell_type": "code",
   "execution_count": null,
   "metadata": {
    "collapsed": true
   },
   "outputs": [],
   "source": []
  },
  {
   "cell_type": "code",
   "execution_count": null,
   "metadata": {
    "collapsed": true
   },
   "outputs": [],
   "source": []
  },
  {
   "cell_type": "code",
   "execution_count": null,
   "metadata": {
    "collapsed": true
   },
   "outputs": [],
   "source": []
  },
  {
   "cell_type": "code",
   "execution_count": null,
   "metadata": {
    "collapsed": true
   },
   "outputs": [],
   "source": []
  },
  {
   "cell_type": "code",
   "execution_count": null,
   "metadata": {
    "collapsed": true
   },
   "outputs": [],
   "source": []
  },
  {
   "cell_type": "code",
   "execution_count": null,
   "metadata": {
    "collapsed": true
   },
   "outputs": [],
   "source": []
  },
  {
   "cell_type": "code",
   "execution_count": null,
   "metadata": {
    "collapsed": true
   },
   "outputs": [],
   "source": []
  },
  {
   "cell_type": "code",
   "execution_count": null,
   "metadata": {
    "collapsed": true
   },
   "outputs": [],
   "source": []
  },
  {
   "cell_type": "code",
   "execution_count": null,
   "metadata": {
    "collapsed": true
   },
   "outputs": [],
   "source": []
  },
  {
   "cell_type": "code",
   "execution_count": null,
   "metadata": {
    "collapsed": true
   },
   "outputs": [],
   "source": []
  },
  {
   "cell_type": "code",
   "execution_count": null,
   "metadata": {
    "collapsed": true
   },
   "outputs": [],
   "source": []
  },
  {
   "cell_type": "code",
   "execution_count": null,
   "metadata": {
    "collapsed": true
   },
   "outputs": [],
   "source": []
  },
  {
   "cell_type": "code",
   "execution_count": null,
   "metadata": {
    "collapsed": true
   },
   "outputs": [],
   "source": []
  },
  {
   "cell_type": "code",
   "execution_count": null,
   "metadata": {
    "collapsed": true
   },
   "outputs": [],
   "source": []
  },
  {
   "cell_type": "code",
   "execution_count": null,
   "metadata": {
    "collapsed": true
   },
   "outputs": [],
   "source": []
  },
  {
   "cell_type": "code",
   "execution_count": null,
   "metadata": {
    "collapsed": true
   },
   "outputs": [],
   "source": []
  },
  {
   "cell_type": "code",
   "execution_count": null,
   "metadata": {
    "collapsed": true
   },
   "outputs": [],
   "source": []
  },
  {
   "cell_type": "code",
   "execution_count": null,
   "metadata": {
    "collapsed": true
   },
   "outputs": [],
   "source": []
  },
  {
   "cell_type": "code",
   "execution_count": null,
   "metadata": {
    "collapsed": true
   },
   "outputs": [],
   "source": []
  },
  {
   "cell_type": "code",
   "execution_count": null,
   "metadata": {
    "collapsed": true
   },
   "outputs": [],
   "source": []
  },
  {
   "cell_type": "code",
   "execution_count": null,
   "metadata": {
    "collapsed": true
   },
   "outputs": [],
   "source": []
  },
  {
   "cell_type": "code",
   "execution_count": null,
   "metadata": {
    "collapsed": true
   },
   "outputs": [],
   "source": []
  },
  {
   "cell_type": "code",
   "execution_count": null,
   "metadata": {
    "collapsed": true
   },
   "outputs": [],
   "source": []
  },
  {
   "cell_type": "code",
   "execution_count": null,
   "metadata": {
    "collapsed": true
   },
   "outputs": [],
   "source": []
  },
  {
   "cell_type": "code",
   "execution_count": null,
   "metadata": {
    "collapsed": true
   },
   "outputs": [],
   "source": []
  },
  {
   "cell_type": "code",
   "execution_count": null,
   "metadata": {
    "collapsed": true
   },
   "outputs": [],
   "source": []
  },
  {
   "cell_type": "code",
   "execution_count": null,
   "metadata": {
    "collapsed": true
   },
   "outputs": [],
   "source": []
  },
  {
   "cell_type": "code",
   "execution_count": null,
   "metadata": {
    "collapsed": true
   },
   "outputs": [],
   "source": []
  },
  {
   "cell_type": "code",
   "execution_count": null,
   "metadata": {
    "collapsed": true
   },
   "outputs": [],
   "source": []
  },
  {
   "cell_type": "code",
   "execution_count": null,
   "metadata": {
    "collapsed": true
   },
   "outputs": [],
   "source": []
  },
  {
   "cell_type": "code",
   "execution_count": null,
   "metadata": {
    "collapsed": true
   },
   "outputs": [],
   "source": []
  }
 ],
 "metadata": {
  "kernelspec": {
   "display_name": "Python 2",
   "language": "python",
   "name": "python2"
  },
  "language_info": {
   "codemirror_mode": {
    "name": "ipython",
    "version": 2
   },
   "file_extension": ".py",
   "mimetype": "text/x-python",
   "name": "python",
   "nbconvert_exporter": "python",
   "pygments_lexer": "ipython2",
   "version": "2.7.12"
  }
 },
 "nbformat": 4,
 "nbformat_minor": 2
}
