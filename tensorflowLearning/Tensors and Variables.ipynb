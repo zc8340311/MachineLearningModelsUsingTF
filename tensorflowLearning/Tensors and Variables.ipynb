{
 "cells": [
  {
   "cell_type": "markdown",
   "metadata": {},
   "source": [
    "# Tensors"
   ]
  },
  {
   "cell_type": "markdown",
   "metadata": {},
   "source": [
    "#### __[Reference: Tensorflow Official Document](https://www.tensorflow.org/programmers_guide/tensors)__"
   ]
  },
  {
   "cell_type": "code",
   "execution_count": 1,
   "metadata": {},
   "outputs": [],
   "source": [
    "import tensorflow as tf"
   ]
  },
  {
   "cell_type": "markdown",
   "metadata": {},
   "source": [
    "A tensor is a generailization of vectors and matrices to potentially higher dimensions.<br>Tensorflow represents tensors as n-dimensional arrays of base datatypes"
   ]
  },
  {
   "cell_type": "markdown",
   "metadata": {},
   "source": [
    "A tensor has several properties: <br> \n",
    "    a data type <br>\n",
    "    a shape"
   ]
  },
  {
   "cell_type": "markdown",
   "metadata": {},
   "source": [
    "Some tensors are special:<br> tf.Variable <br> tf.Constant <br> tf.Placeholder <br> tf.SparseTensor"
   ]
  },
  {
   "cell_type": "markdown",
   "metadata": {},
   "source": [
    "### Rank <br>\n",
    "the rank of a tf.Tensor object is its number of dimensions <br>\n",
    "0-->scalr\n",
    "1-->Vector\n",
    "2-->Matrix\n",
    "3-->3-Tensor\n",
    "n-->n-Tensor"
   ]
  },
  {
   "cell_type": "code",
   "execution_count": null,
   "metadata": {},
   "outputs": [],
   "source": [
    "mammal = tf.Variable(\"Elephant\", tf.string)\n",
    "ignition = tf.Variable(451, tf.int16)\n",
    "floating = tf.Variable(3.14159265359, tf.float64)\n",
    "its_complicated = tf.Variable((12.3, -4.85), tf.complex64)"
   ]
  },
  {
   "cell_type": "markdown",
   "metadata": {},
   "source": [
    "A string is treated as a single item in TensorFlow, not as a sequence of characters. It is possible to have scalar strings, vectors of strings, etc."
   ]
  },
  {
   "cell_type": "code",
   "execution_count": null,
   "metadata": {},
   "outputs": [],
   "source": [
    "mystr = tf.Variable([\"Hello\"], tf.string) ## This is a vector of strings\n",
    "cool_numbers  = tf.Variable([3.14159, 2.71828], tf.float32)\n",
    "first_primes = tf.Variable([2, 3, 5, 7, 11], tf.int32)\n",
    "its_very_complicated = tf.Variable([(12.3, -4.85), (7.5, -6.23)], tf.complex64)"
   ]
  },
  {
   "cell_type": "code",
   "execution_count": null,
   "metadata": {},
   "outputs": [],
   "source": [
    "mymat = tf.Variable([[7],[11]], tf.int16)\n",
    "myxor = tf.Variable([[False, True],[True, False]], tf.bool)\n",
    "linear_squares = tf.Variable([[4], [9], [16], [25]], tf.int32)\n",
    "squarish_squares = tf.Variable([ [1, 1], [1, 1] ], tf.int32)\n",
    "rank_of_squares = tf.rank(squarish_squares)\n",
    "mymatC = tf.Variable([[7],[11]], tf.int32)\n",
    "with tf.Session() as sess:\n",
    "    print mymat.shape\n",
    "    print sess.run(rank_of_squares)"
   ]
  },
  {
   "cell_type": "markdown",
   "metadata": {},
   "source": [
    "Higher-rank Tensors, similarly, consist of an n-dimensional array. For example, during image processing, many tensors of rank 4 are used, with dimensions corresponding to example-in-batch, image width, image height, and color channel."
   ]
  },
  {
   "cell_type": "code",
   "execution_count": null,
   "metadata": {},
   "outputs": [],
   "source": [
    "my_image = tf.zeros([10, 299, 299, 3])  # batch x height x width x color"
   ]
  },
  {
   "cell_type": "code",
   "execution_count": null,
   "metadata": {},
   "outputs": [],
   "source": [
    "#Getting a tf.Tensor object's rank\n",
    "sess = tf.Session()\n",
    "with sess.as_default():\n",
    "    r = tf.rank(mymatC)\n",
    "    print r.eval()"
   ]
  },
  {
   "cell_type": "markdown",
   "metadata": {},
   "source": [
    "## Shape"
   ]
  },
  {
   "cell_type": "markdown",
   "metadata": {},
   "source": [
    "The shape of a tensor is the number of elements in each dimension. <br>\n",
    "There are two ways of accessing the shape of a tf.Tensor. <br>\n",
    "1. This can be done by reading the shape property of a tf.Tensor object.\n",
    "2. Getting runtime shape is done by calling the tf.shape operation"
   ]
  },
  {
   "cell_type": "code",
   "execution_count": null,
   "metadata": {},
   "outputs": [],
   "source": [
    "mymatC = tf.Variable([[7],[11]], tf.int32)\n",
    "# zeros = tf.zeros(tf.shape(mymatC)[0])\n",
    "with tf.Session() as sess:\n",
    "    print mymatC.shape\n",
    "    print sess.run(tf.shape(mymatC))"
   ]
  },
  {
   "cell_type": "markdown",
   "metadata": {},
   "source": [
    "### reshape\n",
    "tf.Tensor, keeping its elements fixed. This can be done with tf.reshape"
   ]
  },
  {
   "cell_type": "code",
   "execution_count": null,
   "metadata": {},
   "outputs": [],
   "source": [
    "nk_three_tensor = tf.ones([3, 4, 5])\n",
    "matrix = tf.reshape(rank_three_tensor, [6, 10])  # Reshape existing content into\n",
    "                                                 # a 6x10 matrix\n",
    "matrixB = tf.reshape(matrix, [3, -1])  #  Reshape existing content into a 3x20\n",
    "                                       # matrix. -1 tells reshape to calculate\n",
    "                                       # the size of this dimension.\n",
    "matrixAlt = tf.reshape(matrixB, [4, 3, -1])  # Reshape existing content into a\n",
    "                                             #4x3x5 tensor\n",
    "\n",
    "# Note that the number of elements of the reshaped Tensors has to match the\n",
    "# original number of elements. Therefore, the following example generates an\n",
    "# error because no possible value for the last dimension will match the number\n",
    "# of elements.\n",
    "yet_another = tf.reshape(matrixAlt, [13, 2, -1])  # ERROR!"
   ]
  },
  {
   "cell_type": "markdown",
   "metadata": {},
   "source": [
    "### Data types\n",
    "To inspect a tf.Tensor's data type use the Tensor.dtype property. <br>\n",
    "It is possible to cast tf.Tensors from one datatype to another using tf.cast"
   ]
  },
  {
   "cell_type": "code",
   "execution_count": null,
   "metadata": {},
   "outputs": [],
   "source": [
    "# Cast a constant integer tensor into floating point.\n",
    "float_tensor = tf.cast(tf.constant([1, 2, 3]), dtype=tf.float32)"
   ]
  },
  {
   "cell_type": "markdown",
   "metadata": {},
   "source": [
    "## Evaluating Tensors\n"
   ]
  },
  {
   "cell_type": "code",
   "execution_count": 30,
   "metadata": {},
   "outputs": [
    {
     "name": "stdout",
     "output_type": "stream",
     "text": [
      "[1 4 9]\n"
     ]
    }
   ],
   "source": [
    "with tf.Session() as sess:\n",
    "    constant = tf.constant([1, 2, 3])\n",
    "    tensor = constant * constant\n",
    "    print tensor.eval()"
   ]
  },
  {
   "cell_type": "code",
   "execution_count": 34,
   "metadata": {},
   "outputs": [
    {
     "name": "stdout",
     "output_type": "stream",
     "text": [
      "3.0\n"
     ]
    }
   ],
   "source": [
    "with tf.Session() as sess:\n",
    "    p = tf.placeholder(tf.float32)\n",
    "    t = p + 1.0\n",
    "    #t.eval()  # This will fail, since the placeholder did not get a value.\n",
    "    print t.eval(feed_dict={p:2.0})  # This will succeed because we're feeding a value\n",
    "                               # to the placeholder."
   ]
  },
  {
   "cell_type": "markdown",
   "metadata": {},
   "source": [
    "# Variables"
   ]
  },
  {
   "cell_type": "markdown",
   "metadata": {},
   "source": [
    "### Difference with Tensor and Variable:\n",
    "1. Tensor also include placeholder internal states and so on.\n",
    "2. Variable need initialized to get its value: tf.global_variables_initalizer()\n",
    "3. Variable are roughly as same as model variables, tensors represent everything in a computation graph. \n",
    "### Contents:\n",
    "1. Creating a variable\n",
    "> 1. Variable collections\n",
    "> 2. Device placement\n",
    "2. Initilizaing variables\n",
    "3. Using variables\n",
    "4. Sharing variables"
   ]
  },
  {
   "cell_type": "markdown",
   "metadata": {},
   "source": [
    "## Creating a variable"
   ]
  },
  {
   "cell_type": "markdown",
   "metadata": {},
   "source": [
    "The best way to create a variable is to call the tf.get_variable function. \n",
    "This function requires you to specify the Variable's name."
   ]
  },
  {
   "cell_type": "code",
   "execution_count": 2,
   "metadata": {},
   "outputs": [],
   "source": [
    "my_variable = tf.get_variable(\"my_variable\", [1, 2, 3])\n",
    "#"
   ]
  },
  {
   "cell_type": "markdown",
   "metadata": {},
   "source": [
    "This creates a variable named \"my_variable\" which is a three-dimensional tensor with shape [1, 2, 3]. \n",
    "This variable will, by default, have the dtype tf.float32 and its initial value will be randomized via tf.glorot_uniform_initializer."
   ]
  },
  {
   "cell_type": "code",
   "execution_count": 6,
   "metadata": {},
   "outputs": [],
   "source": [
    "name = \"my_int_variable1\"\n",
    "my_int_variable = tf.get_variable(name , [1, 2, 3], dtype=tf.int32, initializer=tf.zeros_initializer)\n",
    "## name is like a ID of a variable and variables could survive through multiple computation graph for reuse."
   ]
  },
  {
   "cell_type": "markdown",
   "metadata": {},
   "source": [
    "### Variables Collection"
   ]
  },
  {
   "cell_type": "code",
   "execution_count": null,
   "metadata": {},
   "outputs": [],
   "source": []
  },
  {
   "cell_type": "code",
   "execution_count": null,
   "metadata": {},
   "outputs": [],
   "source": []
  },
  {
   "cell_type": "code",
   "execution_count": null,
   "metadata": {},
   "outputs": [],
   "source": []
  },
  {
   "cell_type": "code",
   "execution_count": null,
   "metadata": {},
   "outputs": [],
   "source": []
  }
 ],
 "metadata": {
  "kernelspec": {
   "display_name": "Python 2",
   "language": "python",
   "name": "python2"
  },
  "language_info": {
   "codemirror_mode": {
    "name": "ipython",
    "version": 2
   },
   "file_extension": ".py",
   "mimetype": "text/x-python",
   "name": "python",
   "nbconvert_exporter": "python",
   "pygments_lexer": "ipython2",
   "version": "2.7.12"
  }
 },
 "nbformat": 4,
 "nbformat_minor": 2
}
